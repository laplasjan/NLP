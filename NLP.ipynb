{
  "cells": [
    {
      "cell_type": "code",
      "execution_count": 102,
      "id": "5c86b65a-e43e-4153-9152-f831c4e81cfd",
      "metadata": {
        "colab": {
          "base_uri": "https://localhost:8080/"
        },
        "id": "5c86b65a-e43e-4153-9152-f831c4e81cfd",
        "outputId": "11b4103c-1da2-4ff7-91ba-92258af38210"
      },
      "outputs": [
        {
          "output_type": "stream",
          "name": "stdout",
          "text": [
            "Drive already mounted at /content/drive; to attempt to forcibly remount, call drive.mount(\"/content/drive\", force_remount=True).\n"
          ]
        }
      ],
      "source": [
        "from sklearn.feature_extraction.text import TfidfVectorizer\n",
        "from sklearn.preprocessing import FunctionTransformer\n",
        "from sklearn.pipeline import Pipeline\n",
        "from sklearn.model_selection import train_test_split\n",
        "from sklearn import svm\n",
        "from sklearn.metrics import accuracy_score\n",
        "import pandas as pd\n",
        "import numpy as np\n",
        "from sklearn.feature_extraction.text import TfidfVectorizer\n",
        "from sklearn.pipeline import Pipeline\n",
        "from nltk.stem import PorterStemmer\n",
        "from imblearn.over_sampling import SMOTE\n",
        "from sklearn.linear_model import LogisticRegression\n",
        "\n",
        "from google.colab import drive\n",
        "drive.mount('/content/drive')"
      ]
    },
    {
      "cell_type": "code",
      "execution_count": 57,
      "id": "99d2252d-aadb-45d7-a785-a2f796693f42",
      "metadata": {
        "id": "99d2252d-aadb-45d7-a785-a2f796693f42"
      },
      "outputs": [],
      "source": [
        "file_path = '/content/drive/My Drive/data.csv'"
      ]
    },
    {
      "cell_type": "code",
      "source": [
        "def stem_text(text):\n",
        "    ps = PorterStemmer()\n",
        "    return ' '.join([ps.stem(word) for word in text.split()])"
      ],
      "metadata": {
        "id": "1ls_a_JNWQvV"
      },
      "id": "1ls_a_JNWQvV",
      "execution_count": 58,
      "outputs": []
    },
    {
      "cell_type": "code",
      "execution_count": 59,
      "id": "c5ed25bf-511c-4f8d-a06e-659c63effd2e",
      "metadata": {
        "id": "c5ed25bf-511c-4f8d-a06e-659c63effd2e"
      },
      "outputs": [],
      "source": [
        "def load_data(filepath):\n",
        "    try:\n",
        "        df = pd.read_csv(filepath, dtype=\"string\")\n",
        "        df = df.dropna()\n",
        "        return df\n",
        "    except Exception as e:\n",
        "        print(f\"Error loading data: {e}\")\n",
        "        return None"
      ]
    },
    {
      "cell_type": "code",
      "execution_count": 73,
      "id": "ed08de10-2429-48b7-a20b-25ce6e9de544",
      "metadata": {
        "id": "ed08de10-2429-48b7-a20b-25ce6e9de544"
      },
      "outputs": [],
      "source": [
        "def preprocess_text(corpus):\n",
        "    ps = PorterStemmer()\n",
        "    processed_corpus = corpus.fillna(\"\").str.lower().str.replace(r'[^\\w\\s]', '', regex=True)\n",
        "    stemmed_corpus = processed_corpus.apply(lambda text: ' '.join([ps.stem(word) for word in text.split()]))\n",
        "    return stemmed_corpus"
      ]
    },
    {
      "cell_type": "code",
      "execution_count": 61,
      "id": "13253835-a62f-4bfc-a1e9-cc5e2b5da99f",
      "metadata": {
        "id": "13253835-a62f-4bfc-a1e9-cc5e2b5da99f"
      },
      "outputs": [],
      "source": [
        "def vectorize_text(corpus):\n",
        "    vectorizer = TfidfVectorizer(analyzer='word', stop_words='english',\n",
        "                                 token_pattern=r'\\b\\w+\\b', max_df=0.25,\n",
        "                                 tokenizer=stem_text)\n",
        "    return vectorizer.fit_transform(corpus), vectorizer\n"
      ]
    },
    {
      "cell_type": "code",
      "execution_count": 62,
      "id": "7a34b6f9-64a4-478f-a3c4-db280d709960",
      "metadata": {
        "id": "7a34b6f9-64a4-478f-a3c4-db280d709960"
      },
      "outputs": [],
      "source": [
        "def train_svm(X_train, y_train):\n",
        "    model = svm.SVC(kernel='linear', random_state=0, C=1.0)\n",
        "    model.fit(X_train, y_train)\n",
        "    return model"
      ]
    },
    {
      "cell_type": "code",
      "execution_count": 63,
      "id": "a8a0b33c-2e4e-4e39-84c0-5675dde82215",
      "metadata": {
        "id": "a8a0b33c-2e4e-4e39-84c0-5675dde82215"
      },
      "outputs": [],
      "source": [
        "def plot_decision_boundary(X, y, model):\n",
        "    color = ['black' if c == 0 else 'lightgrey' for c in y]\n",
        "    plt.scatter(X[:, 0], X[:, 1], c=color, alpha=0.5)\n",
        "\n",
        "    w = model.coef_[0]\n",
        "    a = -w[0] / w[1]\n",
        "    xx = np.linspace(X[:, 0].min(), X[:, 0].max())\n",
        "    yy = a * xx - (model.intercept_[0]) / w[1]\n",
        "\n",
        "    plt.plot(xx, yy, 'r-')\n",
        "    plt.title(\"Decision Boundary\")\n",
        "    plt.show()\n"
      ]
    },
    {
      "cell_type": "code",
      "source": [
        "def main():\n",
        "    filepath ='/content/drive/My Drive/data.csv'\n",
        "    try:\n",
        "        df = pd.read_csv(filepath, dtype=\"string\")\n",
        "    except Exception as e:\n",
        "        print(f\"Error loading data: {e}\")\n",
        "        return\n",
        "\n",
        "    df[\"Disinfo_cases_en\"] = preprocess_text(df[\"Disinfo_cases_en\"])\n",
        "\n",
        "    df[\"Fakes\"] = df[\"Fakes\"].astype(\"category\").cat.codes\n",
        "\n",
        "    X = df[\"Disinfo_cases_en\"]\n",
        "    y = df[\"Fakes\"]\n",
        "\n",
        "    X_train, X_test, y_train, y_test = train_test_split(X, y, test_size=0.2, random_state=42)\n",
        "\n",
        "    vectorizer = TfidfVectorizer(stop_words=\"english\", max_df=0.25)\n",
        "    X_train_tfidf = vectorizer.fit_transform(X_train)\n",
        "    X_test_tfidf = vectorizer.transform(X_test)\n",
        "\n",
        "    model = SVC(kernel=\"linear\", random_state=42, C=1.0)\n",
        "    model.fit(X_train_tfidf, y_train)\n",
        "\n",
        "    y_pred = model.predict(X_test_tfidf)\n",
        "    print(\"Classification Report:\")\n",
        "    print(classification_report(y_test, y_pred))\n",
        "    print(f\"Accuracy: {accuracy_score(y_test, y_pred):.2f}\")\n",
        "    print(df[\"Fakes\"].value_counts())\n"
      ],
      "metadata": {
        "id": "--SMEgRibPlB"
      },
      "id": "--SMEgRibPlB",
      "execution_count": 79,
      "outputs": []
    },
    {
      "cell_type": "code",
      "source": [
        "if __name__ == \"__main__\":\n",
        "    main()"
      ],
      "metadata": {
        "colab": {
          "base_uri": "https://localhost:8080/"
        },
        "id": "WoVevXs7ZAkq",
        "outputId": "c64713a8-eb8f-4f2f-8820-b5147fcd5169"
      },
      "id": "WoVevXs7ZAkq",
      "execution_count": 80,
      "outputs": [
        {
          "output_type": "stream",
          "name": "stdout",
          "text": [
            "Classification Report:\n",
            "              precision    recall  f1-score   support\n",
            "\n",
            "          -1       0.00      0.00      0.00         3\n",
            "           0       0.00      0.00      0.00         1\n",
            "           1       0.15      1.00      0.27        11\n",
            "           3       0.00      0.00      0.00         3\n",
            "           8       0.00      0.00      0.00         0\n",
            "           9       0.00      0.00      0.00         1\n",
            "          10       0.00      0.00      0.00         2\n",
            "          11       0.00      0.00      0.00         2\n",
            "          12       0.00      0.00      0.00         2\n",
            "          14       0.00      0.00      0.00         2\n",
            "          15       0.00      0.00      0.00         1\n",
            "          16       0.00      0.00      0.00         1\n",
            "          20       1.00      1.00      1.00         1\n",
            "          21       0.00      0.00      0.00         3\n",
            "          22       0.00      0.00      0.00         4\n",
            "          23       0.00      0.00      0.00         3\n",
            "          24       0.00      0.00      0.00         1\n",
            "          25       0.00      0.00      0.00         3\n",
            "          26       0.00      0.00      0.00         3\n",
            "          28       0.00      0.00      0.00         1\n",
            "          29       0.80      1.00      0.89         4\n",
            "          31       1.00      1.00      1.00         5\n",
            "          32       0.00      0.00      0.00         2\n",
            "          33       0.00      0.00      0.00         1\n",
            "          34       1.00      1.00      1.00         1\n",
            "          35       0.20      1.00      0.33         1\n",
            "          36       0.00      0.00      0.00         1\n",
            "          39       0.00      0.00      0.00         1\n",
            "          40       0.00      0.00      0.00         2\n",
            "          42       0.00      0.00      0.00         2\n",
            "          44       0.00      0.00      0.00         1\n",
            "          45       0.00      0.00      0.00         3\n",
            "          46       0.43      0.60      0.50         5\n",
            "          47       0.00      0.00      0.00         1\n",
            "          48       0.00      0.00      0.00         1\n",
            "          49       0.00      0.00      0.00         2\n",
            "          50       0.29      0.50      0.36         4\n",
            "          51       0.00      0.00      0.00         2\n",
            "          53       0.00      0.00      0.00         1\n",
            "          54       0.00      0.00      0.00         2\n",
            "          55       0.00      0.00      0.00         1\n",
            "          56       1.00      0.20      0.33         5\n",
            "          57       0.00      0.00      0.00         1\n",
            "          58       0.00      0.00      0.00         3\n",
            "          59       1.00      0.50      0.67         2\n",
            "          60       0.00      0.00      0.00         2\n",
            "          61       0.00      0.00      0.00         1\n",
            "          62       0.00      0.00      0.00         4\n",
            "          63       0.00      0.00      0.00         3\n",
            "          64       0.00      0.00      0.00         1\n",
            "          67       1.00      0.25      0.40         4\n",
            "          68       0.00      0.00      0.00         1\n",
            "          69       0.00      0.00      0.00         1\n",
            "          70       0.25      0.17      0.20         6\n",
            "\n",
            "    accuracy                           0.26       125\n",
            "   macro avg       0.15      0.15      0.13       125\n",
            "weighted avg       0.22      0.26      0.19       125\n",
            "\n",
            "Accuracy: 0.26\n",
            "Fakes\n",
            "1     71\n",
            "29    43\n",
            "31    28\n",
            "46    24\n",
            "50    22\n",
            "      ..\n",
            "4      1\n",
            "17     1\n",
            "69     1\n",
            "71     1\n",
            "39     1\n",
            "Name: count, Length: 73, dtype: int64\n"
          ]
        },
        {
          "output_type": "stream",
          "name": "stderr",
          "text": [
            "/usr/local/lib/python3.10/dist-packages/sklearn/metrics/_classification.py:1531: UndefinedMetricWarning: Precision is ill-defined and being set to 0.0 in labels with no predicted samples. Use `zero_division` parameter to control this behavior.\n",
            "  _warn_prf(average, modifier, f\"{metric.capitalize()} is\", len(result))\n",
            "/usr/local/lib/python3.10/dist-packages/sklearn/metrics/_classification.py:1531: UndefinedMetricWarning: Recall is ill-defined and being set to 0.0 in labels with no true samples. Use `zero_division` parameter to control this behavior.\n",
            "  _warn_prf(average, modifier, f\"{metric.capitalize()} is\", len(result))\n",
            "/usr/local/lib/python3.10/dist-packages/sklearn/metrics/_classification.py:1531: UndefinedMetricWarning: Precision is ill-defined and being set to 0.0 in labels with no predicted samples. Use `zero_division` parameter to control this behavior.\n",
            "  _warn_prf(average, modifier, f\"{metric.capitalize()} is\", len(result))\n",
            "/usr/local/lib/python3.10/dist-packages/sklearn/metrics/_classification.py:1531: UndefinedMetricWarning: Recall is ill-defined and being set to 0.0 in labels with no true samples. Use `zero_division` parameter to control this behavior.\n",
            "  _warn_prf(average, modifier, f\"{metric.capitalize()} is\", len(result))\n",
            "/usr/local/lib/python3.10/dist-packages/sklearn/metrics/_classification.py:1531: UndefinedMetricWarning: Precision is ill-defined and being set to 0.0 in labels with no predicted samples. Use `zero_division` parameter to control this behavior.\n",
            "  _warn_prf(average, modifier, f\"{metric.capitalize()} is\", len(result))\n",
            "/usr/local/lib/python3.10/dist-packages/sklearn/metrics/_classification.py:1531: UndefinedMetricWarning: Recall is ill-defined and being set to 0.0 in labels with no true samples. Use `zero_division` parameter to control this behavior.\n",
            "  _warn_prf(average, modifier, f\"{metric.capitalize()} is\", len(result))\n"
          ]
        }
      ]
    },
    {
      "cell_type": "markdown",
      "source": [
        "Oversampling fejków"
      ],
      "metadata": {
        "id": "TFvylhh6cp5c"
      },
      "id": "TFvylhh6cp5c"
    },
    {
      "cell_type": "code",
      "source": [
        "filepath ='/content/drive/My Drive/data.csv'\n",
        "df = pd.read_csv(filepath, dtype=\"string\")\n",
        "\n",
        "print(\"Rozkład klas przed balansowaniem:\")\n",
        "print(df[\"Fakes\"].value_counts())\n",
        "\n",
        "# Opcjonalne grupowanie rzadkich klas\n",
        "threshold = 5\n",
        "df[\"Fakes\"] = df[\"Fakes\"].apply(lambda x: x if df[\"Fakes\"].value_counts()[x] > threshold else -1)\n",
        "\n",
        "# Zbalansowanie danych (przykład: SMOTE)\n",
        "from imblearn.over_sampling import SMOTE\n",
        "\n",
        "smote = SMOTE(random_state=42)\n",
        "X_resampled, y_resampled = smote.fit_resample(X_train_tfidf, y_train)\n",
        "\n",
        "# Trenowanie modelu na zbalansowanych danych\n",
        "model.fit(X_resampled, y_resampled)\n",
        "\n",
        "# Ocena modelu\n",
        "y_pred = model.predict(X_test_tfidf)\n",
        "print(classification_report(y_test, y_pred))\n"
      ],
      "metadata": {
        "colab": {
          "base_uri": "https://localhost:8080/",
          "height": 824
        },
        "id": "eRwUZSw9cb6P",
        "outputId": "406b2b46-2f76-440c-fa22-0bea62073599"
      },
      "id": "eRwUZSw9cb6P",
      "execution_count": 97,
      "outputs": [
        {
          "output_type": "stream",
          "name": "stdout",
          "text": [
            "Rozkład klas przed balansowaniem:\n",
            "Fakes\n",
            "Conflict in Eastern Ukraine is solely internal, i.e, a civil war           71\n",
            "Russia did not occupy Crimea. It was a reunification                       43\n",
            "Russia is not involved in MH17 crash; Ukraine shot down the plane          28\n",
            "The West is fueling the war in Ukraine                                     24\n",
            "The West uses Ukraine in its actions against Russia                        22\n",
            "                                                                           ..\n",
            "Ukrainian gas pipeline is worn out                                          1\n",
            "Donbas separated because nationalists came to power in Kyiv                 1\n",
            "NATO is making provocations and advancing to Russia's borders               1\n",
            "Ukrainian authorities are preparing the next provocation against Russia     1\n",
            "The Ukrainian Church supports war and nationalist rhetoric                  1\n",
            "Name: count, Length: 72, dtype: Int64\n"
          ]
        },
        {
          "output_type": "error",
          "ename": "KeyError",
          "evalue": "<NA>",
          "traceback": [
            "\u001b[0;31m---------------------------------------------------------------------------\u001b[0m",
            "\u001b[0;31mKeyError\u001b[0m                                  Traceback (most recent call last)",
            "\u001b[0;32m/usr/local/lib/python3.10/dist-packages/pandas/core/indexes/base.py\u001b[0m in \u001b[0;36mget_loc\u001b[0;34m(self, key)\u001b[0m\n\u001b[1;32m   3804\u001b[0m         \u001b[0;32mtry\u001b[0m\u001b[0;34m:\u001b[0m\u001b[0;34m\u001b[0m\u001b[0;34m\u001b[0m\u001b[0m\n\u001b[0;32m-> 3805\u001b[0;31m             \u001b[0;32mreturn\u001b[0m \u001b[0mself\u001b[0m\u001b[0;34m.\u001b[0m\u001b[0m_engine\u001b[0m\u001b[0;34m.\u001b[0m\u001b[0mget_loc\u001b[0m\u001b[0;34m(\u001b[0m\u001b[0mcasted_key\u001b[0m\u001b[0;34m)\u001b[0m\u001b[0;34m\u001b[0m\u001b[0;34m\u001b[0m\u001b[0m\n\u001b[0m\u001b[1;32m   3806\u001b[0m         \u001b[0;32mexcept\u001b[0m \u001b[0mKeyError\u001b[0m \u001b[0;32mas\u001b[0m \u001b[0merr\u001b[0m\u001b[0;34m:\u001b[0m\u001b[0;34m\u001b[0m\u001b[0;34m\u001b[0m\u001b[0m\n",
            "\u001b[0;32mindex.pyx\u001b[0m in \u001b[0;36mpandas._libs.index.IndexEngine.get_loc\u001b[0;34m()\u001b[0m\n",
            "\u001b[0;32mindex.pyx\u001b[0m in \u001b[0;36mpandas._libs.index.IndexEngine.get_loc\u001b[0;34m()\u001b[0m\n",
            "\u001b[0;32mpandas/_libs/hashtable_class_helper.pxi\u001b[0m in \u001b[0;36mpandas._libs.hashtable.PyObjectHashTable.get_item\u001b[0;34m()\u001b[0m\n",
            "\u001b[0;32mpandas/_libs/hashtable_class_helper.pxi\u001b[0m in \u001b[0;36mpandas._libs.hashtable.PyObjectHashTable.get_item\u001b[0;34m()\u001b[0m\n",
            "\u001b[0;31mKeyError\u001b[0m: <NA>",
            "\nThe above exception was the direct cause of the following exception:\n",
            "\u001b[0;31mKeyError\u001b[0m                                  Traceback (most recent call last)",
            "\u001b[0;32m<ipython-input-97-34d73ec12d4e>\u001b[0m in \u001b[0;36m<cell line: 9>\u001b[0;34m()\u001b[0m\n\u001b[1;32m      7\u001b[0m \u001b[0;31m# Opcjonalne grupowanie rzadkich klas\u001b[0m\u001b[0;34m\u001b[0m\u001b[0;34m\u001b[0m\u001b[0m\n\u001b[1;32m      8\u001b[0m \u001b[0mthreshold\u001b[0m \u001b[0;34m=\u001b[0m \u001b[0;36m5\u001b[0m\u001b[0;34m\u001b[0m\u001b[0;34m\u001b[0m\u001b[0m\n\u001b[0;32m----> 9\u001b[0;31m \u001b[0mdf\u001b[0m\u001b[0;34m[\u001b[0m\u001b[0;34m\"Fakes\"\u001b[0m\u001b[0;34m]\u001b[0m \u001b[0;34m=\u001b[0m \u001b[0mdf\u001b[0m\u001b[0;34m[\u001b[0m\u001b[0;34m\"Fakes\"\u001b[0m\u001b[0;34m]\u001b[0m\u001b[0;34m.\u001b[0m\u001b[0mapply\u001b[0m\u001b[0;34m(\u001b[0m\u001b[0;32mlambda\u001b[0m \u001b[0mx\u001b[0m\u001b[0;34m:\u001b[0m \u001b[0mx\u001b[0m \u001b[0;32mif\u001b[0m \u001b[0mdf\u001b[0m\u001b[0;34m[\u001b[0m\u001b[0;34m\"Fakes\"\u001b[0m\u001b[0;34m]\u001b[0m\u001b[0;34m.\u001b[0m\u001b[0mvalue_counts\u001b[0m\u001b[0;34m(\u001b[0m\u001b[0;34m)\u001b[0m\u001b[0;34m[\u001b[0m\u001b[0mx\u001b[0m\u001b[0;34m]\u001b[0m \u001b[0;34m>\u001b[0m \u001b[0mthreshold\u001b[0m \u001b[0;32melse\u001b[0m \u001b[0;34m-\u001b[0m\u001b[0;36m1\u001b[0m\u001b[0;34m)\u001b[0m\u001b[0;34m\u001b[0m\u001b[0;34m\u001b[0m\u001b[0m\n\u001b[0m\u001b[1;32m     10\u001b[0m \u001b[0;34m\u001b[0m\u001b[0m\n\u001b[1;32m     11\u001b[0m \u001b[0;31m# Zbalansowanie danych (przykład: SMOTE)\u001b[0m\u001b[0;34m\u001b[0m\u001b[0;34m\u001b[0m\u001b[0m\n",
            "\u001b[0;32m/usr/local/lib/python3.10/dist-packages/pandas/core/series.py\u001b[0m in \u001b[0;36mapply\u001b[0;34m(self, func, convert_dtype, args, by_row, **kwargs)\u001b[0m\n\u001b[1;32m   4922\u001b[0m             \u001b[0margs\u001b[0m\u001b[0;34m=\u001b[0m\u001b[0margs\u001b[0m\u001b[0;34m,\u001b[0m\u001b[0;34m\u001b[0m\u001b[0;34m\u001b[0m\u001b[0m\n\u001b[1;32m   4923\u001b[0m             \u001b[0mkwargs\u001b[0m\u001b[0;34m=\u001b[0m\u001b[0mkwargs\u001b[0m\u001b[0;34m,\u001b[0m\u001b[0;34m\u001b[0m\u001b[0;34m\u001b[0m\u001b[0m\n\u001b[0;32m-> 4924\u001b[0;31m         ).apply()\n\u001b[0m\u001b[1;32m   4925\u001b[0m \u001b[0;34m\u001b[0m\u001b[0m\n\u001b[1;32m   4926\u001b[0m     def _reindex_indexer(\n",
            "\u001b[0;32m/usr/local/lib/python3.10/dist-packages/pandas/core/apply.py\u001b[0m in \u001b[0;36mapply\u001b[0;34m(self)\u001b[0m\n\u001b[1;32m   1425\u001b[0m \u001b[0;34m\u001b[0m\u001b[0m\n\u001b[1;32m   1426\u001b[0m         \u001b[0;31m# self.func is Callable\u001b[0m\u001b[0;34m\u001b[0m\u001b[0;34m\u001b[0m\u001b[0m\n\u001b[0;32m-> 1427\u001b[0;31m         \u001b[0;32mreturn\u001b[0m \u001b[0mself\u001b[0m\u001b[0;34m.\u001b[0m\u001b[0mapply_standard\u001b[0m\u001b[0;34m(\u001b[0m\u001b[0;34m)\u001b[0m\u001b[0;34m\u001b[0m\u001b[0;34m\u001b[0m\u001b[0m\n\u001b[0m\u001b[1;32m   1428\u001b[0m \u001b[0;34m\u001b[0m\u001b[0m\n\u001b[1;32m   1429\u001b[0m     \u001b[0;32mdef\u001b[0m \u001b[0magg\u001b[0m\u001b[0;34m(\u001b[0m\u001b[0mself\u001b[0m\u001b[0;34m)\u001b[0m\u001b[0;34m:\u001b[0m\u001b[0;34m\u001b[0m\u001b[0;34m\u001b[0m\u001b[0m\n",
            "\u001b[0;32m/usr/local/lib/python3.10/dist-packages/pandas/core/apply.py\u001b[0m in \u001b[0;36mapply_standard\u001b[0;34m(self)\u001b[0m\n\u001b[1;32m   1505\u001b[0m         \u001b[0;31m#  Categorical (GH51645).\u001b[0m\u001b[0;34m\u001b[0m\u001b[0;34m\u001b[0m\u001b[0m\n\u001b[1;32m   1506\u001b[0m         \u001b[0maction\u001b[0m \u001b[0;34m=\u001b[0m \u001b[0;34m\"ignore\"\u001b[0m \u001b[0;32mif\u001b[0m \u001b[0misinstance\u001b[0m\u001b[0;34m(\u001b[0m\u001b[0mobj\u001b[0m\u001b[0;34m.\u001b[0m\u001b[0mdtype\u001b[0m\u001b[0;34m,\u001b[0m \u001b[0mCategoricalDtype\u001b[0m\u001b[0;34m)\u001b[0m \u001b[0;32melse\u001b[0m \u001b[0;32mNone\u001b[0m\u001b[0;34m\u001b[0m\u001b[0;34m\u001b[0m\u001b[0m\n\u001b[0;32m-> 1507\u001b[0;31m         mapped = obj._map_values(\n\u001b[0m\u001b[1;32m   1508\u001b[0m             \u001b[0mmapper\u001b[0m\u001b[0;34m=\u001b[0m\u001b[0mcurried\u001b[0m\u001b[0;34m,\u001b[0m \u001b[0mna_action\u001b[0m\u001b[0;34m=\u001b[0m\u001b[0maction\u001b[0m\u001b[0;34m,\u001b[0m \u001b[0mconvert\u001b[0m\u001b[0;34m=\u001b[0m\u001b[0mself\u001b[0m\u001b[0;34m.\u001b[0m\u001b[0mconvert_dtype\u001b[0m\u001b[0;34m\u001b[0m\u001b[0;34m\u001b[0m\u001b[0m\n\u001b[1;32m   1509\u001b[0m         )\n",
            "\u001b[0;32m/usr/local/lib/python3.10/dist-packages/pandas/core/base.py\u001b[0m in \u001b[0;36m_map_values\u001b[0;34m(self, mapper, na_action, convert)\u001b[0m\n\u001b[1;32m    917\u001b[0m \u001b[0;34m\u001b[0m\u001b[0m\n\u001b[1;32m    918\u001b[0m         \u001b[0;32mif\u001b[0m \u001b[0misinstance\u001b[0m\u001b[0;34m(\u001b[0m\u001b[0marr\u001b[0m\u001b[0;34m,\u001b[0m \u001b[0mExtensionArray\u001b[0m\u001b[0;34m)\u001b[0m\u001b[0;34m:\u001b[0m\u001b[0;34m\u001b[0m\u001b[0;34m\u001b[0m\u001b[0m\n\u001b[0;32m--> 919\u001b[0;31m             \u001b[0;32mreturn\u001b[0m \u001b[0marr\u001b[0m\u001b[0;34m.\u001b[0m\u001b[0mmap\u001b[0m\u001b[0;34m(\u001b[0m\u001b[0mmapper\u001b[0m\u001b[0;34m,\u001b[0m \u001b[0mna_action\u001b[0m\u001b[0;34m=\u001b[0m\u001b[0mna_action\u001b[0m\u001b[0;34m)\u001b[0m\u001b[0;34m\u001b[0m\u001b[0;34m\u001b[0m\u001b[0m\n\u001b[0m\u001b[1;32m    920\u001b[0m \u001b[0;34m\u001b[0m\u001b[0m\n\u001b[1;32m    921\u001b[0m         \u001b[0;32mreturn\u001b[0m \u001b[0malgorithms\u001b[0m\u001b[0;34m.\u001b[0m\u001b[0mmap_array\u001b[0m\u001b[0;34m(\u001b[0m\u001b[0marr\u001b[0m\u001b[0;34m,\u001b[0m \u001b[0mmapper\u001b[0m\u001b[0;34m,\u001b[0m \u001b[0mna_action\u001b[0m\u001b[0;34m=\u001b[0m\u001b[0mna_action\u001b[0m\u001b[0;34m,\u001b[0m \u001b[0mconvert\u001b[0m\u001b[0;34m=\u001b[0m\u001b[0mconvert\u001b[0m\u001b[0;34m)\u001b[0m\u001b[0;34m\u001b[0m\u001b[0;34m\u001b[0m\u001b[0m\n",
            "\u001b[0;32m/usr/local/lib/python3.10/dist-packages/pandas/core/arrays/base.py\u001b[0m in \u001b[0;36mmap\u001b[0;34m(self, mapper, na_action)\u001b[0m\n\u001b[1;32m   2320\u001b[0m             \u001b[0ma\u001b[0m \u001b[0mMultiIndex\u001b[0m \u001b[0mwill\u001b[0m \u001b[0mbe\u001b[0m \u001b[0mreturned\u001b[0m\u001b[0;34m.\u001b[0m\u001b[0;34m\u001b[0m\u001b[0;34m\u001b[0m\u001b[0m\n\u001b[1;32m   2321\u001b[0m         \"\"\"\n\u001b[0;32m-> 2322\u001b[0;31m         \u001b[0;32mreturn\u001b[0m \u001b[0mmap_array\u001b[0m\u001b[0;34m(\u001b[0m\u001b[0mself\u001b[0m\u001b[0;34m,\u001b[0m \u001b[0mmapper\u001b[0m\u001b[0;34m,\u001b[0m \u001b[0mna_action\u001b[0m\u001b[0;34m=\u001b[0m\u001b[0mna_action\u001b[0m\u001b[0;34m)\u001b[0m\u001b[0;34m\u001b[0m\u001b[0;34m\u001b[0m\u001b[0m\n\u001b[0m\u001b[1;32m   2323\u001b[0m \u001b[0;34m\u001b[0m\u001b[0m\n\u001b[1;32m   2324\u001b[0m     \u001b[0;31m# ------------------------------------------------------------------------\u001b[0m\u001b[0;34m\u001b[0m\u001b[0;34m\u001b[0m\u001b[0m\n",
            "\u001b[0;32m/usr/local/lib/python3.10/dist-packages/pandas/core/algorithms.py\u001b[0m in \u001b[0;36mmap_array\u001b[0;34m(arr, mapper, na_action, convert)\u001b[0m\n\u001b[1;32m   1741\u001b[0m     \u001b[0mvalues\u001b[0m \u001b[0;34m=\u001b[0m \u001b[0marr\u001b[0m\u001b[0;34m.\u001b[0m\u001b[0mastype\u001b[0m\u001b[0;34m(\u001b[0m\u001b[0mobject\u001b[0m\u001b[0;34m,\u001b[0m \u001b[0mcopy\u001b[0m\u001b[0;34m=\u001b[0m\u001b[0;32mFalse\u001b[0m\u001b[0;34m)\u001b[0m\u001b[0;34m\u001b[0m\u001b[0;34m\u001b[0m\u001b[0m\n\u001b[1;32m   1742\u001b[0m     \u001b[0;32mif\u001b[0m \u001b[0mna_action\u001b[0m \u001b[0;32mis\u001b[0m \u001b[0;32mNone\u001b[0m\u001b[0;34m:\u001b[0m\u001b[0;34m\u001b[0m\u001b[0;34m\u001b[0m\u001b[0m\n\u001b[0;32m-> 1743\u001b[0;31m         \u001b[0;32mreturn\u001b[0m \u001b[0mlib\u001b[0m\u001b[0;34m.\u001b[0m\u001b[0mmap_infer\u001b[0m\u001b[0;34m(\u001b[0m\u001b[0mvalues\u001b[0m\u001b[0;34m,\u001b[0m \u001b[0mmapper\u001b[0m\u001b[0;34m,\u001b[0m \u001b[0mconvert\u001b[0m\u001b[0;34m=\u001b[0m\u001b[0mconvert\u001b[0m\u001b[0;34m)\u001b[0m\u001b[0;34m\u001b[0m\u001b[0;34m\u001b[0m\u001b[0m\n\u001b[0m\u001b[1;32m   1744\u001b[0m     \u001b[0;32melse\u001b[0m\u001b[0;34m:\u001b[0m\u001b[0;34m\u001b[0m\u001b[0;34m\u001b[0m\u001b[0m\n\u001b[1;32m   1745\u001b[0m         return lib.map_infer_mask(\n",
            "\u001b[0;32mlib.pyx\u001b[0m in \u001b[0;36mpandas._libs.lib.map_infer\u001b[0;34m()\u001b[0m\n",
            "\u001b[0;32m<ipython-input-97-34d73ec12d4e>\u001b[0m in \u001b[0;36m<lambda>\u001b[0;34m(x)\u001b[0m\n\u001b[1;32m      7\u001b[0m \u001b[0;31m# Opcjonalne grupowanie rzadkich klas\u001b[0m\u001b[0;34m\u001b[0m\u001b[0;34m\u001b[0m\u001b[0m\n\u001b[1;32m      8\u001b[0m \u001b[0mthreshold\u001b[0m \u001b[0;34m=\u001b[0m \u001b[0;36m5\u001b[0m\u001b[0;34m\u001b[0m\u001b[0;34m\u001b[0m\u001b[0m\n\u001b[0;32m----> 9\u001b[0;31m \u001b[0mdf\u001b[0m\u001b[0;34m[\u001b[0m\u001b[0;34m\"Fakes\"\u001b[0m\u001b[0;34m]\u001b[0m \u001b[0;34m=\u001b[0m \u001b[0mdf\u001b[0m\u001b[0;34m[\u001b[0m\u001b[0;34m\"Fakes\"\u001b[0m\u001b[0;34m]\u001b[0m\u001b[0;34m.\u001b[0m\u001b[0mapply\u001b[0m\u001b[0;34m(\u001b[0m\u001b[0;32mlambda\u001b[0m \u001b[0mx\u001b[0m\u001b[0;34m:\u001b[0m \u001b[0mx\u001b[0m \u001b[0;32mif\u001b[0m \u001b[0mdf\u001b[0m\u001b[0;34m[\u001b[0m\u001b[0;34m\"Fakes\"\u001b[0m\u001b[0;34m]\u001b[0m\u001b[0;34m.\u001b[0m\u001b[0mvalue_counts\u001b[0m\u001b[0;34m(\u001b[0m\u001b[0;34m)\u001b[0m\u001b[0;34m[\u001b[0m\u001b[0mx\u001b[0m\u001b[0;34m]\u001b[0m \u001b[0;34m>\u001b[0m \u001b[0mthreshold\u001b[0m \u001b[0;32melse\u001b[0m \u001b[0;34m-\u001b[0m\u001b[0;36m1\u001b[0m\u001b[0;34m)\u001b[0m\u001b[0;34m\u001b[0m\u001b[0;34m\u001b[0m\u001b[0m\n\u001b[0m\u001b[1;32m     10\u001b[0m \u001b[0;34m\u001b[0m\u001b[0m\n\u001b[1;32m     11\u001b[0m \u001b[0;31m# Zbalansowanie danych (przykład: SMOTE)\u001b[0m\u001b[0;34m\u001b[0m\u001b[0;34m\u001b[0m\u001b[0m\n",
            "\u001b[0;32m/usr/local/lib/python3.10/dist-packages/pandas/core/series.py\u001b[0m in \u001b[0;36m__getitem__\u001b[0;34m(self, key)\u001b[0m\n\u001b[1;32m   1119\u001b[0m \u001b[0;34m\u001b[0m\u001b[0m\n\u001b[1;32m   1120\u001b[0m         \u001b[0;32melif\u001b[0m \u001b[0mkey_is_scalar\u001b[0m\u001b[0;34m:\u001b[0m\u001b[0;34m\u001b[0m\u001b[0;34m\u001b[0m\u001b[0m\n\u001b[0;32m-> 1121\u001b[0;31m             \u001b[0;32mreturn\u001b[0m \u001b[0mself\u001b[0m\u001b[0;34m.\u001b[0m\u001b[0m_get_value\u001b[0m\u001b[0;34m(\u001b[0m\u001b[0mkey\u001b[0m\u001b[0;34m)\u001b[0m\u001b[0;34m\u001b[0m\u001b[0;34m\u001b[0m\u001b[0m\n\u001b[0m\u001b[1;32m   1122\u001b[0m \u001b[0;34m\u001b[0m\u001b[0m\n\u001b[1;32m   1123\u001b[0m         \u001b[0;31m# Convert generator to list before going through hashable part\u001b[0m\u001b[0;34m\u001b[0m\u001b[0;34m\u001b[0m\u001b[0m\n",
            "\u001b[0;32m/usr/local/lib/python3.10/dist-packages/pandas/core/series.py\u001b[0m in \u001b[0;36m_get_value\u001b[0;34m(self, label, takeable)\u001b[0m\n\u001b[1;32m   1235\u001b[0m \u001b[0;34m\u001b[0m\u001b[0m\n\u001b[1;32m   1236\u001b[0m         \u001b[0;31m# Similar to Index.get_value, but we do not fall back to positional\u001b[0m\u001b[0;34m\u001b[0m\u001b[0;34m\u001b[0m\u001b[0m\n\u001b[0;32m-> 1237\u001b[0;31m         \u001b[0mloc\u001b[0m \u001b[0;34m=\u001b[0m \u001b[0mself\u001b[0m\u001b[0;34m.\u001b[0m\u001b[0mindex\u001b[0m\u001b[0;34m.\u001b[0m\u001b[0mget_loc\u001b[0m\u001b[0;34m(\u001b[0m\u001b[0mlabel\u001b[0m\u001b[0;34m)\u001b[0m\u001b[0;34m\u001b[0m\u001b[0;34m\u001b[0m\u001b[0m\n\u001b[0m\u001b[1;32m   1238\u001b[0m \u001b[0;34m\u001b[0m\u001b[0m\n\u001b[1;32m   1239\u001b[0m         \u001b[0;32mif\u001b[0m \u001b[0mis_integer\u001b[0m\u001b[0;34m(\u001b[0m\u001b[0mloc\u001b[0m\u001b[0;34m)\u001b[0m\u001b[0;34m:\u001b[0m\u001b[0;34m\u001b[0m\u001b[0;34m\u001b[0m\u001b[0m\n",
            "\u001b[0;32m/usr/local/lib/python3.10/dist-packages/pandas/core/indexes/base.py\u001b[0m in \u001b[0;36mget_loc\u001b[0;34m(self, key)\u001b[0m\n\u001b[1;32m   3810\u001b[0m             ):\n\u001b[1;32m   3811\u001b[0m                 \u001b[0;32mraise\u001b[0m \u001b[0mInvalidIndexError\u001b[0m\u001b[0;34m(\u001b[0m\u001b[0mkey\u001b[0m\u001b[0;34m)\u001b[0m\u001b[0;34m\u001b[0m\u001b[0;34m\u001b[0m\u001b[0m\n\u001b[0;32m-> 3812\u001b[0;31m             \u001b[0;32mraise\u001b[0m \u001b[0mKeyError\u001b[0m\u001b[0;34m(\u001b[0m\u001b[0mkey\u001b[0m\u001b[0;34m)\u001b[0m \u001b[0;32mfrom\u001b[0m \u001b[0merr\u001b[0m\u001b[0;34m\u001b[0m\u001b[0;34m\u001b[0m\u001b[0m\n\u001b[0m\u001b[1;32m   3813\u001b[0m         \u001b[0;32mexcept\u001b[0m \u001b[0mTypeError\u001b[0m\u001b[0;34m:\u001b[0m\u001b[0;34m\u001b[0m\u001b[0;34m\u001b[0m\u001b[0m\n\u001b[1;32m   3814\u001b[0m             \u001b[0;31m# If we have a listlike key, _check_indexing_error will raise\u001b[0m\u001b[0;34m\u001b[0m\u001b[0;34m\u001b[0m\u001b[0m\n",
            "\u001b[0;31mKeyError\u001b[0m: <NA>"
          ]
        }
      ]
    },
    {
      "cell_type": "code",
      "source": [
        "print(df[\"Fakes\"].isna().sum())"
      ],
      "metadata": {
        "colab": {
          "base_uri": "https://localhost:8080/"
        },
        "id": "nFGDVlBQdG3W",
        "outputId": "219227c8-e80f-48f2-d7fa-2985952e88e1"
      },
      "id": "nFGDVlBQdG3W",
      "execution_count": 98,
      "outputs": [
        {
          "output_type": "stream",
          "name": "stdout",
          "text": [
            "12\n"
          ]
        }
      ]
    },
    {
      "cell_type": "code",
      "source": [
        "df = df.dropna(subset=[\"Fakes\"])\n",
        "df[\"Fakes\"] = df[\"Fakes\"].fillna(-1)\n",
        "df[\"Disinfo_cases_en\"] = df[\"Disinfo_cases_en\"].fillna(\"\")\n",
        "if df[\"Fakes\"].isna().any():\n",
        "    print(\"Brakujące wartości w kolumnie Fakes\")\n",
        "    df[\"Fakes\"] = df[\"Fakes\"].fillna(-1)"
      ],
      "metadata": {
        "id": "VWY0U9FHdyIR"
      },
      "id": "VWY0U9FHdyIR",
      "execution_count": 100,
      "outputs": []
    },
    {
      "cell_type": "code",
      "source": [
        "def main():\n",
        "    filepath = '/content/drive/My Drive/data.csv'\n",
        "    try:\n",
        "        df = pd.read_csv(filepath, dtype=\"string\")\n",
        "    except Exception as e:\n",
        "        print(f\"Error loading data: {e}\")\n",
        "        return\n",
        "\n",
        "    # Wypełnij brakujące wartości\n",
        "    df[\"Fakes\"] = df[\"Fakes\"].fillna(\"N/A\")  # Użycie wartości tekstowej\n",
        "    df[\"Disinfo_cases_en\"] = df[\"Disinfo_cases_en\"].fillna(\"\")\n",
        "\n",
        "    # Preprocessing\n",
        "    processed_text = preprocess_text(df[\"Disinfo_cases_en\"])\n",
        "    df[\"Disinfo_cases_en\"] = processed_text\n",
        "\n",
        "    X = df[\"Disinfo_cases_en\"]\n",
        "    y = df[\"Fakes\"]\n",
        "\n",
        "    # Podział na dane treningowe i testowe\n",
        "    X_train, X_test, y_train, y_test = train_test_split(X, y, test_size=0.2, random_state=42)\n",
        "\n",
        "    # Wektoryzacja\n",
        "    vectorizer = TfidfVectorizer(stop_words=\"english\", max_df=0.25, max_features=1000)\n",
        "    X_train_tfidf = vectorizer.fit_transform(X_train)\n",
        "    X_test_tfidf = vectorizer.transform(X_test)\n",
        "\n",
        "    # Trenowanie modelu\n",
        "    from sklearn.svm import LinearSVC  # Szybszy niż SVC\n",
        "    model = LinearSVC(random_state=42, C=1.0)\n",
        "    model.fit(X_train_tfidf, y_train)\n",
        "\n",
        "    # Predykcja i ewaluacja\n",
        "    y_pred = model.predict(X_test_tfidf)\n",
        "    print(\"Classification Report:\")\n",
        "    print(classification_report(y_test, y_pred))\n",
        "    print(f\"Accuracy: {accuracy_score(y_test, y_pred):.2f}\")\n",
        "    print(df[\"Fakes\"].value_counts())\n",
        "\n",
        "if __name__ == \"__main__\":\n",
        "    main()\n"
      ],
      "metadata": {
        "colab": {
          "base_uri": "https://localhost:8080/"
        },
        "id": "UYu7PG5teAZf",
        "outputId": "722809e4-7bb8-463e-cb4e-b4eb87e0ff48"
      },
      "id": "UYu7PG5teAZf",
      "execution_count": 105,
      "outputs": [
        {
          "output_type": "stream",
          "name": "stdout",
          "text": [
            "Classification Report:\n",
            "                                                                                                                                                                                precision    recall  f1-score   support\n",
            "\n",
            "                                                                                                                              Anti-Russian neo-Nazism is florishing in Ukraine       0.00      0.00      0.00         1\n",
            "                                                                                                              Conflict in Eastern Ukraine is solely internal, i.e, a civil war       0.46      0.55      0.50        11\n",
            "                                                                                                                               Delays in the Nord Stream 2 cause crisis in EU        1.00      1.00      1.00         3\n",
            "                                                                                                                                     Historically, Ukraine is a part of Russia       0.00      0.00      0.00         0\n",
            "                                                                                                                              Kyiv ignores fulfillment ot the Minsk Agreements       0.00      0.00      0.00         0\n",
            "                                                                                                                       Kyiv intends to resolve the conflict in Donbas by force       0.00      0.00      0.00         1\n",
            "                                                                                                                                              Maidan in 2014 was a coup d'état       0.00      0.00      0.00         2\n",
            "                                                                                               Maidan led to the separation of Donetsk and Luhansk and civil war in the region       0.00      0.00      0.00         2\n",
            "Maidan was organised or supported by other countries or foreigners, in particular to remove the ruling class close to Russia and replace it with the usual pro-Western puppets       0.00      0.00      0.00         2\n",
            "                                                                                                                                    Maidan was organised to destabilize Russia       0.00      0.00      0.00         0\n",
            "                                                                                                                                                                           N/A       0.60      1.00      0.75         3\n",
            "                                                                                                      NATO has promised Russia not to expand, but has now betrayed its promise       0.00      0.00      0.00         2\n",
            "                                                                                                                                             NATO increase presense in Ukraine       0.00      0.00      0.00         1\n",
            "                                                                                                                                            NATO increase presense in Ukraine        0.00      0.00      0.00         1\n",
            "                                                                                                              NATO is making provocations and expansioning to Russia's borders       0.00      0.00      0.00         0\n",
            "                                                                                                                  NS-2 isn't a political project, it is exclusively commercial       1.00      1.00      1.00         1\n",
            "                                                                                                                                                              Nazi coup d'état       0.17      0.33      0.22         3\n",
            "                                                                                                                                        Nazi ideology is widespread in Ukraine       0.50      0.25      0.33         4\n",
            "                                                                                              Nazis/right-wing nationalist government took power after the coup d'état in Kyiv       0.00      0.00      0.00         3\n",
            "                                                                                                                                              Nazists organized Odesa massacre       0.00      0.00      0.00         1\n",
            "                                                                                                           Neo-fascist/neo-Nazi forces participated in the coup d'état in 2014       0.00      0.00      0.00         3\n",
            "                                                                                                                        Poroshenko has made division among churches in Ukraine       0.50      0.33      0.40         3\n",
            "                                                                     Right-wing radicals and neo-Nazis are closely involved in Ukraine's government and law enforcement system       0.14      1.00      0.25         1\n",
            "                                                                                                                          Russia did not occupy Crimea. It was a reunification       0.80      1.00      0.89         4\n",
            "                                                                                                            Russia is not involved in MH17 crash; Ukraine shot down the plane        0.62      1.00      0.77         5\n",
            "                                                                                                                                  Russia is not involved in the war in Ukraine       1.00      0.50      0.67         2\n",
            "                                                                                                              Russia just conducts military exercises near Ukrainian boarders        0.00      0.00      0.00         1\n",
            "                                                                                                                                       Russia needs to protect \"LDPR\" citizens       0.50      1.00      0.67         1\n",
            "                                                                                                                                                   Schismatic Ukrainian Church       0.33      1.00      0.50         1\n",
            "                                                                                              The \"coup\" was arranged by Nuland, she is the creator of the \"crisis in Ukraine\"       0.00      0.00      0.00         1\n",
            "                                                                                                                             The U.S. has secret laboratories all over Ukraine       0.00      0.00      0.00         0\n",
            "                                                                                                                    The Ukrainian Church supports war and nationalist rhetoric       0.00      0.00      0.00         1\n",
            "                                                                                                                                 The Ukrainian military open fire at civilians       0.67      1.00      0.80         2\n",
            "                                                                                                                                  The West controls the authorities in Ukraine       0.00      0.00      0.00         2\n",
            "                                                                                                                                          The West does not care about Ukraine       0.00      0.00      0.00         0\n",
            "                                                                                                                                         The West does not care about Ukraine\n",
            "       0.00      0.00      0.00         1\n",
            "                                                                                                                                  The West ignores the Nazi problem in Ukraine       0.00      0.00      0.00         3\n",
            "                                                                                                                                        The West is fueling the war in Ukraine       0.60      0.60      0.60         5\n",
            "                                                                                                                                      The West is provoking a war with Russia        0.50      1.00      0.67         1\n",
            "                                                                                                                                                  The West is tired of Ukraine       0.00      0.00      0.00         1\n",
            "                                                                                                                          The West uses Ukraine as a instrument against Russia       0.00      0.00      0.00         2\n",
            "                                                                                                                           The West uses Ukraine in its actions against Russia       0.50      0.50      0.50         4\n",
            "                                                                                          The West wants to kill Ukrainian economy to remove competitors and avoid competition       0.00      0.00      0.00         2\n",
            "                                                                                                       There are constant violations of rights of ethnic minorities in Ukraine       0.00      0.00      0.00         1\n",
            "                                                                                                                              There is a discrimination of Russians in Ukraine       0.00      0.00      0.00         2\n",
            "                                                                                                                                       There is a strict censorship in Ukraine       0.00      0.00      0.00         1\n",
            "                                                                                                                         There is an oppression of Russian language in Ukraine       0.50      0.40      0.44         5\n",
            "                                                                                                                                   Ukraine builds up military forces in Donbas       0.00      0.00      0.00         1\n",
            "                                                                                                                                            Ukraine denounced Minsk Agreements       0.50      0.33      0.40         3\n",
            "                                                                                                                                      Ukraine escalates the conflict in Donbas       0.50      0.50      0.50         2\n",
            "                                                                                                                           Ukraine has become an unofficial NATO military base       0.00      0.00      0.00         2\n",
            "                                                                                                                                                     Ukraine is a failed state       0.00      0.00      0.00         1\n",
            "                                                                                                                            Ukraine is a puppet of the West in its global game       0.00      0.00      0.00         4\n",
            "                                                                                                                              Ukraine prepares\\conducts provocations in Donbas       0.00      0.00      0.00         3\n",
            "                                                                                                                Ukraine prevents OSCE monitors from recording their violations       1.00      1.00      1.00         1\n",
            "                                                                                                                  Ukraine's economy and political institutions barely function       0.33      0.50      0.40         4\n",
            "                                                                                                                                   Ukrainian army conduct ceasefire violations       0.00      0.00      0.00         1\n",
            "                                                                                                       Ukrainian authorities are preparing the next provocation against Russia       0.00      0.00      0.00         1\n",
            "                                                                                                 Ukrainian coup d'etat (Maidan) in 2014 was supported or organized by the West       0.25      0.17      0.20         6\n",
            "\n",
            "                                                                                                                                                                      accuracy                           0.36       125\n",
            "                                                                                                                                                                     macro avg       0.22      0.27      0.23       125\n",
            "                                                                                                                                                                  weighted avg       0.32      0.36      0.32       125\n",
            "\n",
            "Accuracy: 0.36\n",
            "Fakes\n",
            "Conflict in Eastern Ukraine is solely internal, i.e, a civil war           71\n",
            "Russia did not occupy Crimea. It was a reunification                       43\n",
            "Russia is not involved in MH17 crash; Ukraine shot down the plane          28\n",
            "The West is fueling the war in Ukraine                                     24\n",
            "The West uses Ukraine in its actions against Russia                        22\n",
            "                                                                           ..\n",
            "Donbas separated because nationalists came to power in Kyiv                 1\n",
            "NATO is making provocations and advancing to Russia's borders               1\n",
            "Ukrainian authorities are preparing the next provocation against Russia     1\n",
            "Ukrainian gas pipeline is worn out                                          1\n",
            "The Ukrainian Church supports war and nationalist rhetoric                  1\n",
            "Name: count, Length: 73, dtype: Int64\n"
          ]
        },
        {
          "output_type": "stream",
          "name": "stderr",
          "text": [
            "/usr/local/lib/python3.10/dist-packages/sklearn/metrics/_classification.py:1531: UndefinedMetricWarning: Precision is ill-defined and being set to 0.0 in labels with no predicted samples. Use `zero_division` parameter to control this behavior.\n",
            "  _warn_prf(average, modifier, f\"{metric.capitalize()} is\", len(result))\n",
            "/usr/local/lib/python3.10/dist-packages/sklearn/metrics/_classification.py:1531: UndefinedMetricWarning: Recall is ill-defined and being set to 0.0 in labels with no true samples. Use `zero_division` parameter to control this behavior.\n",
            "  _warn_prf(average, modifier, f\"{metric.capitalize()} is\", len(result))\n",
            "/usr/local/lib/python3.10/dist-packages/sklearn/metrics/_classification.py:1531: UndefinedMetricWarning: Precision is ill-defined and being set to 0.0 in labels with no predicted samples. Use `zero_division` parameter to control this behavior.\n",
            "  _warn_prf(average, modifier, f\"{metric.capitalize()} is\", len(result))\n",
            "/usr/local/lib/python3.10/dist-packages/sklearn/metrics/_classification.py:1531: UndefinedMetricWarning: Recall is ill-defined and being set to 0.0 in labels with no true samples. Use `zero_division` parameter to control this behavior.\n",
            "  _warn_prf(average, modifier, f\"{metric.capitalize()} is\", len(result))\n",
            "/usr/local/lib/python3.10/dist-packages/sklearn/metrics/_classification.py:1531: UndefinedMetricWarning: Precision is ill-defined and being set to 0.0 in labels with no predicted samples. Use `zero_division` parameter to control this behavior.\n",
            "  _warn_prf(average, modifier, f\"{metric.capitalize()} is\", len(result))\n",
            "/usr/local/lib/python3.10/dist-packages/sklearn/metrics/_classification.py:1531: UndefinedMetricWarning: Recall is ill-defined and being set to 0.0 in labels with no true samples. Use `zero_division` parameter to control this behavior.\n",
            "  _warn_prf(average, modifier, f\"{metric.capitalize()} is\", len(result))\n"
          ]
        }
      ]
    }
  ],
  "metadata": {
    "kernelspec": {
      "display_name": "Python 3 (ipykernel)",
      "language": "python",
      "name": "python3"
    },
    "language_info": {
      "codemirror_mode": {
        "name": "ipython",
        "version": 3
      },
      "file_extension": ".py",
      "mimetype": "text/x-python",
      "name": "python",
      "nbconvert_exporter": "python",
      "pygments_lexer": "ipython3",
      "version": "3.9.13"
    },
    "colab": {
      "provenance": []
    }
  },
  "nbformat": 4,
  "nbformat_minor": 5
}