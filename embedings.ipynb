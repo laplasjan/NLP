{
  "cells": [
    {
      "cell_type": "code",
      "execution_count": 32,
      "id": "d0b20323-7ee6-4618-92d3-104ebe0a9581",
      "metadata": {
        "colab": {
          "base_uri": "https://localhost:8080/"
        },
        "id": "d0b20323-7ee6-4618-92d3-104ebe0a9581",
        "outputId": "dd61940f-753d-4eed-ebd4-501632ed6f8a"
      },
      "outputs": [
        {
          "output_type": "stream",
          "name": "stdout",
          "text": [
            "Drive already mounted at /content/drive; to attempt to forcibly remount, call drive.mount(\"/content/drive\", force_remount=True).\n"
          ]
        }
      ],
      "source": [
        "import pandas as pd\n",
        "from transformers import BertTokenizer, BertModel, BertForSequenceClassification\n",
        "import torch\n",
        "import numpy as np\n",
        "from google.colab import drive\n",
        "\n",
        "# Mount Drive\n",
        "drive.mount('/content/drive')"
      ]
    },
    {
      "cell_type": "code",
      "source": [
        "file_path = '/content/drive/My Drive/data.csv'\n",
        "data = pd.read_csv(file_path)"
      ],
      "metadata": {
        "id": "Qe6pe1wO326k"
      },
      "id": "Qe6pe1wO326k",
      "execution_count": 33,
      "outputs": []
    },
    {
      "cell_type": "code",
      "source": [
        "# Prepare text\n",
        "col1 = data[\"Disinfo_cases_en\"].astype(str)\n",
        "col2 = data[\"Fakes\"].astype(str)\n",
        "text = col1 + \" \" + col2"
      ],
      "metadata": {
        "id": "0sWRSXXFf_s4"
      },
      "id": "0sWRSXXFf_s4",
      "execution_count": 34,
      "outputs": []
    },
    {
      "cell_type": "code",
      "execution_count": 35,
      "id": "007abde9-80e6-4f4b-ac95-a00b35ad48d0",
      "metadata": {
        "id": "007abde9-80e6-4f4b-ac95-a00b35ad48d0"
      },
      "outputs": [],
      "source": [
        "tokenizer = BertTokenizer.from_pretrained('bert-base-uncased')\n",
        "model = BertModel.from_pretrained('bert-base-uncased')"
      ]
    },
    {
      "cell_type": "code",
      "source": [
        "def get_bert_embeddings(text):\n",
        "    if isinstance(text, str):\n",
        "        inputs = tokenizer(text, return_tensors=\"pt\", truncation=True, padding=True, max_length=128)\n",
        "        with torch.no_grad():\n",
        "            outputs = model(**inputs)\n",
        "        cls_embedding = outputs.last_hidden_state[:, 0, :]\n",
        "        return cls_embedding.squeeze().numpy()\n",
        "    else:\n",
        "        return np.nan"
      ],
      "metadata": {
        "id": "bDP-SocZgH0E"
      },
      "id": "bDP-SocZgH0E",
      "execution_count": 36,
      "outputs": []
    },
    {
      "cell_type": "code",
      "execution_count": 37,
      "id": "17735cc1-64f9-4040-bda4-87ec5d0716be",
      "metadata": {
        "id": "17735cc1-64f9-4040-bda4-87ec5d0716be"
      },
      "outputs": [],
      "source": [
        "embeddings = [get_bert_embeddings(t) for t in text]\n",
        "data['embedding'] = embeddings"
      ]
    },
    {
      "cell_type": "code",
      "source": [
        "print(data[['Disinfo_cases_en', 'Fakes', 'embedding']])"
      ],
      "metadata": {
        "colab": {
          "base_uri": "https://localhost:8080/"
        },
        "id": "xS1llgj6lU0P",
        "outputId": "73af5181-e11c-4f19-a37e-b606e3358c76"
      },
      "id": "xS1llgj6lU0P",
      "execution_count": 38,
      "outputs": [
        {
          "output_type": "stream",
          "name": "stdout",
          "text": [
            "                                      Disinfo_cases_en  \\\n",
            "0    Kyiv forces continue to bomb the territories o...   \n",
            "1    After the Maidan putsch in April 2014, Kyiv se...   \n",
            "2    Because of the Maidan coup and the thousands o...   \n",
            "3    A civil war has been raging there since a coup...   \n",
            "4    Of course, Biden knows who initiated the 2014 ...   \n",
            "..                                                 ...   \n",
            "618  US intelligence analysts had already concluded...   \n",
            "619    in Ukraine we have witnessed a real coup d'état   \n",
            "620  In Sunday's referendum, 96.6 percent of Crimes...   \n",
            "621              Ukraine, how a 'modern' coup is made    \n",
            "622   \"MADE IN USA\" COUP STRATEGY…the US has invest...   \n",
            "\n",
            "                                                 Fakes  \\\n",
            "0     Kyiv ignores fulfillment ot the Minsk Agreements   \n",
            "1    Maidan led to the separation of Donetsk and Lu...   \n",
            "2    Maidan led to the separation of Donetsk and Lu...   \n",
            "3    Maidan led to the separation of Donetsk and Lu...   \n",
            "4    Maidan led to the separation of Donetsk and Lu...   \n",
            "..                                                 ...   \n",
            "618  Russia is not involved in MH17 crash; Ukraine ...   \n",
            "619                   Maidan in 2014 was a coup d'état   \n",
            "620  Russia did not occupy Crimea. It was a reunifi...   \n",
            "621  Maidan was organised or supported by other cou...   \n",
            "622  Ukrainian coup d'etat (Maidan) in 2014 was sup...   \n",
            "\n",
            "                                             embedding  \n",
            "0    [-0.8118986, -0.086330086, 0.19561116, -0.4455...  \n",
            "1    [-0.5667894, -0.28954983, -0.29709616, -0.2573...  \n",
            "2    [-0.48483235, -0.10360229, -0.65305597, -0.278...  \n",
            "3    [-0.33538136, -0.09753087, -0.2685886, -0.6699...  \n",
            "4    [-0.7697854, -0.021172691, -0.17632551, -0.047...  \n",
            "..                                                 ...  \n",
            "618  [-0.7005569, -0.14740545, -0.22866078, 0.07684...  \n",
            "619  [-0.40897045, 0.010681465, -0.28167892, -0.088...  \n",
            "620  [-0.9202206, -0.19079468, -0.051545437, 0.1039...  \n",
            "621  [-0.5468438, -0.25720826, -0.5570551, 0.077882...  \n",
            "622  [-0.7020716, -0.08983549, -0.43742773, 0.28824...  \n",
            "\n",
            "[623 rows x 3 columns]\n"
          ]
        }
      ]
    },
    {
      "cell_type": "code",
      "source": [
        "model_classification = BertForSequenceClassification.from_pretrained(\"nlptown/bert-base-multilingual-uncased-sentiment\")\n",
        "inputs_classification = tokenizer(text.tolist(), return_tensors=\"pt\", truncation=True, padding=True, max_length=128)\n",
        "\n",
        "with torch.no_grad():\n",
        "    classification_outputs = model_classification(**inputs_classification)\n",
        "\n",
        "logits = classification_outputs.logits\n",
        "probabilities = torch.nn.functional.softmax(logits, dim=-1)\n",
        "\n",
        "print(\"Probabilities for each class:\", probabilities.numpy())"
      ],
      "metadata": {
        "id": "191xEgz_6vF5",
        "colab": {
          "base_uri": "https://localhost:8080/"
        },
        "outputId": "e85c3ef4-0663-4066-a785-7954fb6a201b"
      },
      "id": "191xEgz_6vF5",
      "execution_count": 39,
      "outputs": [
        {
          "output_type": "stream",
          "name": "stdout",
          "text": [
            "Probabilities for each class: [[0.47929278 0.24985263 0.17323753 0.06029387 0.03732326]\n",
            " [0.2953638  0.2499476  0.22712862 0.13673626 0.0908236 ]\n",
            " [0.32371065 0.2905383  0.24154565 0.09388333 0.05032207]\n",
            " ...\n",
            " [0.3371575  0.3127644  0.2257449  0.08557009 0.03876317]\n",
            " [0.44345367 0.2712132  0.16219382 0.06942202 0.05371735]\n",
            " [0.58948857 0.22774903 0.10985631 0.04051752 0.03238861]]\n"
          ]
        }
      ]
    }
  ],
  "metadata": {
    "kernelspec": {
      "display_name": "Python 3 (ipykernel)",
      "language": "python",
      "name": "python3"
    },
    "language_info": {
      "codemirror_mode": {
        "name": "ipython",
        "version": 3
      },
      "file_extension": ".py",
      "mimetype": "text/x-python",
      "name": "python",
      "nbconvert_exporter": "python",
      "pygments_lexer": "ipython3",
      "version": "3.9.13"
    },
    "colab": {
      "provenance": []
    }
  },
  "nbformat": 4,
  "nbformat_minor": 5
}